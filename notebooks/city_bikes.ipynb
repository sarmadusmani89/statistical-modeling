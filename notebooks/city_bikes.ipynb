{
 "cells": [
  {
   "cell_type": "markdown",
   "metadata": {},
   "source": [
    "# Part 1: Connecting to CityBikes API\n",
    "---"
   ]
  },
  {
   "cell_type": "markdown",
   "metadata": {},
   "source": [
    "# CityBikes"
   ]
  },
  {
   "cell_type": "code",
   "execution_count": 88,
   "metadata": {
    "tags": []
   },
   "outputs": [],
   "source": [
    "# imports\n",
    "import requests\n",
    "import pandas as pd"
   ]
  },
  {
   "cell_type": "markdown",
   "metadata": {},
   "source": [
    "Send a request to CityBikes for the city of your choice.\n",
    "___"
   ]
  },
  {
   "cell_type": "code",
   "execution_count": 5,
   "metadata": {
    "tags": []
   },
   "outputs": [],
   "source": [
    "url = 'http://api.citybik.es/v2/networks/sobi-hamilton'\n",
    "\n",
    "response = requests.get(url)\n",
    "response_data = response.json()"
   ]
  },
  {
   "cell_type": "markdown",
   "metadata": {},
   "source": [
    "Parse through the response to get the details you want for the bike stations in that city (latitude, longitude, number of bikes).\n",
    "___"
   ]
  },
  {
   "cell_type": "code",
   "execution_count": 81,
   "metadata": {
    "tags": []
   },
   "outputs": [
    {
     "name": "stdout",
     "output_type": "stream",
     "text": [
      "<class 'dict'>\n",
      "<class 'list'>\n"
     ]
    },
    {
     "data": {
      "text/plain": [
       "dict_keys(['empty_slots', 'extra', 'free_bikes', 'id', 'latitude', 'longitude', 'name', 'timestamp'])"
      ]
     },
     "execution_count": 81,
     "metadata": {},
     "output_type": "execute_result"
    }
   ],
   "source": [
    "# exploring the response\n",
    "print(type(response_data))\n",
    "print(type(response_data['network']['stations']))\n",
    "response_data['network']['stations'][0].keys()"
   ]
  },
  {
   "cell_type": "code",
   "execution_count": 82,
   "metadata": {
    "tags": []
   },
   "outputs": [
    {
     "data": {
      "text/plain": [
       "{'empty_slots': 31,\n",
       " 'extra': {'address': '88 Forsyth Avenue North, Hamilton',\n",
       "  'last_updated': 1701354866,\n",
       "  'payment': ['key',\n",
       "   'applepay',\n",
       "   'androidpay',\n",
       "   'transitcard',\n",
       "   'accountnumber',\n",
       "   'phone'],\n",
       "  'payment-terminal': False,\n",
       "  'renting': 1,\n",
       "  'returning': 1,\n",
       "  'uid': 'hub_894'},\n",
       " 'free_bikes': 4,\n",
       " 'id': '2a91db522d9c3f209772a8f35b8ee4e1',\n",
       " 'latitude': 43.26271404114188,\n",
       " 'longitude': -79.91580605506897,\n",
       " 'name': 'Forsyth at Sterling',\n",
       " 'timestamp': '2023-11-30T15:37:38.492000Z'}"
      ]
     },
     "execution_count": 82,
     "metadata": {},
     "output_type": "execute_result"
    }
   ],
   "source": [
    "# exploring the data from a single station \n",
    "response_data['network']['stations'][10]"
   ]
  },
  {
   "cell_type": "markdown",
   "metadata": {},
   "source": [
    "Put your parsed results into a DataFrame.\n",
    "___"
   ]
  },
  {
   "cell_type": "code",
   "execution_count": 89,
   "metadata": {
    "tags": []
   },
   "outputs": [],
   "source": [
    "subset_response_data = response_data['network']['stations']\n",
    "bike_stations = pd.json_normalize(subset_response_data)\n",
    "\n",
    "# drop unnecessary columns\n",
    "columns_to_drop = list(bike_stations.columns[6:])\n",
    "bike_stations = bike_stations.drop(columns=columns_to_drop)"
   ]
  },
  {
   "cell_type": "code",
   "execution_count": 84,
   "metadata": {
    "tags": []
   },
   "outputs": [
    {
     "data": {
      "text/html": [
       "<div>\n",
       "<style scoped>\n",
       "    .dataframe tbody tr th:only-of-type {\n",
       "        vertical-align: middle;\n",
       "    }\n",
       "\n",
       "    .dataframe tbody tr th {\n",
       "        vertical-align: top;\n",
       "    }\n",
       "\n",
       "    .dataframe thead th {\n",
       "        text-align: right;\n",
       "    }\n",
       "</style>\n",
       "<table border=\"1\" class=\"dataframe\">\n",
       "  <thead>\n",
       "    <tr style=\"text-align: right;\">\n",
       "      <th></th>\n",
       "      <th>empty_slots</th>\n",
       "      <th>free_bikes</th>\n",
       "      <th>id</th>\n",
       "      <th>latitude</th>\n",
       "      <th>longitude</th>\n",
       "      <th>name</th>\n",
       "    </tr>\n",
       "  </thead>\n",
       "  <tbody>\n",
       "    <tr>\n",
       "      <th>0</th>\n",
       "      <td>9</td>\n",
       "      <td>3</td>\n",
       "      <td>45dbb0009135e465f49f054517cbe74d</td>\n",
       "      <td>43.259126</td>\n",
       "      <td>-79.877212</td>\n",
       "      <td>Hess at king</td>\n",
       "    </tr>\n",
       "    <tr>\n",
       "      <th>1</th>\n",
       "      <td>32</td>\n",
       "      <td>3</td>\n",
       "      <td>cd881edad122a75c57d94b381cdfc6c0</td>\n",
       "      <td>43.269288</td>\n",
       "      <td>-79.871327</td>\n",
       "      <td>Bayfront Park</td>\n",
       "    </tr>\n",
       "    <tr>\n",
       "      <th>2</th>\n",
       "      <td>18</td>\n",
       "      <td>6</td>\n",
       "      <td>024a3edf037cb411d16acc08a7fcb954</td>\n",
       "      <td>43.267859</td>\n",
       "      <td>-79.867923</td>\n",
       "      <td>Bay at Strachan</td>\n",
       "    </tr>\n",
       "    <tr>\n",
       "      <th>3</th>\n",
       "      <td>9</td>\n",
       "      <td>4</td>\n",
       "      <td>b933317ff2861c45aacbea4cbf4b541f</td>\n",
       "      <td>43.263198</td>\n",
       "      <td>-79.871803</td>\n",
       "      <td>Bay at Mulberry</td>\n",
       "    </tr>\n",
       "    <tr>\n",
       "      <th>4</th>\n",
       "      <td>9</td>\n",
       "      <td>8</td>\n",
       "      <td>20dc109608315db09a8332d6e6940c75</td>\n",
       "      <td>43.256132</td>\n",
       "      <td>-79.874499</td>\n",
       "      <td>City Hall</td>\n",
       "    </tr>\n",
       "  </tbody>\n",
       "</table>\n",
       "</div>"
      ],
      "text/plain": [
       "   empty_slots  free_bikes                                id   latitude  \\\n",
       "0            9           3  45dbb0009135e465f49f054517cbe74d  43.259126   \n",
       "1           32           3  cd881edad122a75c57d94b381cdfc6c0  43.269288   \n",
       "2           18           6  024a3edf037cb411d16acc08a7fcb954  43.267859   \n",
       "3            9           4  b933317ff2861c45aacbea4cbf4b541f  43.263198   \n",
       "4            9           8  20dc109608315db09a8332d6e6940c75  43.256132   \n",
       "\n",
       "   longitude             name  \n",
       "0 -79.877212     Hess at king  \n",
       "1 -79.871327    Bayfront Park  \n",
       "2 -79.867923  Bay at Strachan  \n",
       "3 -79.871803  Bay at Mulberry  \n",
       "4 -79.874499        City Hall  "
      ]
     },
     "execution_count": 84,
     "metadata": {},
     "output_type": "execute_result"
    }
   ],
   "source": [
    "bike_stations.head()"
   ]
  },
  {
   "cell_type": "code",
   "execution_count": 85,
   "metadata": {
    "tags": []
   },
   "outputs": [
    {
     "data": {
      "text/plain": [
       "(145, 6)"
      ]
     },
     "execution_count": 85,
     "metadata": {},
     "output_type": "execute_result"
    }
   ],
   "source": [
    "bike_stations.shape"
   ]
  },
  {
   "cell_type": "code",
   "execution_count": 86,
   "metadata": {
    "tags": []
   },
   "outputs": [
    {
     "name": "stdout",
     "output_type": "stream",
     "text": [
      "<class 'pandas.core.frame.DataFrame'>\n",
      "RangeIndex: 145 entries, 0 to 144\n",
      "Data columns (total 6 columns):\n",
      " #   Column       Non-Null Count  Dtype  \n",
      "---  ------       --------------  -----  \n",
      " 0   empty_slots  145 non-null    int64  \n",
      " 1   free_bikes   145 non-null    int64  \n",
      " 2   id           145 non-null    object \n",
      " 3   latitude     145 non-null    float64\n",
      " 4   longitude    145 non-null    float64\n",
      " 5   name         145 non-null    object \n",
      "dtypes: float64(2), int64(2), object(2)\n",
      "memory usage: 6.9+ KB\n"
     ]
    }
   ],
   "source": [
    "bike_stations.info()"
   ]
  },
  {
   "cell_type": "code",
   "execution_count": null,
   "metadata": {
    "tags": []
   },
   "outputs": [],
   "source": [
    "#save data to use in another notebook \n",
    "bike_stations.to_csv('../data/bike_stations_hamilton.csv')"
   ]
  }
 ],
 "metadata": {
  "kernelspec": {
   "display_name": "Python 3 (ipykernel)",
   "language": "python",
   "name": "python3"
  },
  "language_info": {
   "codemirror_mode": {
    "name": "ipython",
    "version": 3
   },
   "file_extension": ".py",
   "mimetype": "text/x-python",
   "name": "python",
   "nbconvert_exporter": "python",
   "pygments_lexer": "ipython3",
   "version": "3.11.5"
  }
 },
 "nbformat": 4,
 "nbformat_minor": 4
}
