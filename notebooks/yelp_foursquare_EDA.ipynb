{
 "cells": [
  {
   "cell_type": "markdown",
   "metadata": {},
   "source": [
    "# Part 2: Connecting to Foursquare and Yelp APIs\n",
    "---"
   ]
  },
  {
   "cell_type": "code",
   "execution_count": 1,
   "metadata": {
    "tags": []
   },
   "outputs": [],
   "source": [
    "# imports\n",
    "import requests\n",
    "import pandas as pd\n",
    "import os"
   ]
  },
  {
   "cell_type": "markdown",
   "metadata": {
    "tags": []
   },
   "source": [
    "# Foursquare"
   ]
  },
  {
   "cell_type": "markdown",
   "metadata": {},
   "source": [
    "Send a request to Foursquare with a small radius (1000m) for all the bike stations in your city of choice.\n",
    "___"
   ]
  },
  {
   "cell_type": "code",
   "execution_count": 2,
   "metadata": {
    "tags": []
   },
   "outputs": [],
   "source": [
    "FOURSQUARE_KEY = os.getenv('FOURSQUARE_API_KEY')"
   ]
  },
  {
   "cell_type": "code",
   "execution_count": 282,
   "metadata": {
    "tags": []
   },
   "outputs": [],
   "source": [
    "# Function to make an http request to foursqure for each bike station\n",
    "def get_poi_fs(latitude, longitude, radius, api_key, categories):    \n",
    "    url = f'https://api.foursquare.com/v3/places/search?ll={latitude},{longitude}&radius={radius}'\n",
    "\n",
    "    # Create dictionary for headers\n",
    "    headers = {\"Accept\": \"application/json\"}\n",
    "    headers['Authorization'] = api_key\n",
    "    reponse = requests.get(url, headers=headers)\n",
    "    reponse_data = reponse.json()\n",
    "    \n",
    "    return reponse_data['results']"
   ]
  },
  {
   "cell_type": "code",
   "execution_count": 234,
   "metadata": {
    "tags": []
   },
   "outputs": [],
   "source": [
    "# testing\n",
    "res = get_poi_fs(latitude=43.259126, longitude=-79.877212, radius=1000, api_key=FOURSQUARE_KEY, categories=dining_cat_ids)"
   ]
  },
  {
   "cell_type": "markdown",
   "metadata": {},
   "source": [
    "Parse through the response to get the POI (such as restaurants, bars, etc) details you want (ratings, name, location, etc)\n",
    "___"
   ]
  },
  {
   "cell_type": "code",
   "execution_count": 275,
   "metadata": {
    "tags": []
   },
   "outputs": [
    {
     "data": {
      "text/plain": [
       "{'fsq_id': '579b8d6b498ea8f02d7fc402',\n",
       " 'categories': [{'id': 13055,\n",
       "   'name': 'Fried Chicken Joint',\n",
       "   'short_name': 'Fried Chicken',\n",
       "   'plural_name': 'Fried Chicken Joints',\n",
       "   'icon': {'prefix': 'https://ss3.4sqi.net/img/categories_v2/food/friedchicken_',\n",
       "    'suffix': '.png'}}],\n",
       " 'chains': [],\n",
       " 'closed_bucket': 'VeryLikelyOpen',\n",
       " 'distance': 22,\n",
       " 'geocodes': {'main': {'latitude': 43.259153, 'longitude': -79.877446},\n",
       "  'roof': {'latitude': 43.259153, 'longitude': -79.877446}},\n",
       " 'link': '/v3/places/579b8d6b498ea8f02d7fc402',\n",
       " 'location': {'address': '274 King St W',\n",
       "  'address_extended': '# 272',\n",
       "  'country': 'CA',\n",
       "  'cross_street': '',\n",
       "  'formatted_address': '274 King St W, Hamilton ON L8P 1J6',\n",
       "  'locality': 'Hamilton',\n",
       "  'postcode': 'L8P 1J6',\n",
       "  'region': 'ON'},\n",
       " 'name': 'Coop Hamilton',\n",
       " 'related_places': {},\n",
       " 'timezone': 'America/Toronto'}"
      ]
     },
     "execution_count": 275,
     "metadata": {},
     "output_type": "execute_result"
    }
   ],
   "source": [
    "# to explore the result of a single POI from the testing call\n",
    "res[0]"
   ]
  },
  {
   "cell_type": "markdown",
   "metadata": {},
   "source": [
    "Put your parsed results into a DataFrame\n",
    "___"
   ]
  },
  {
   "cell_type": "code",
   "execution_count": 2,
   "metadata": {
    "tags": []
   },
   "outputs": [],
   "source": [
    "# load the df of the bike stations containing the latitude and longitude\n",
    "bike_stations_load1 = pd.read_csv('../data/bike_stations_hamilton.csv', index_col=0)"
   ]
  },
  {
   "cell_type": "code",
   "execution_count": 297,
   "metadata": {
    "tags": []
   },
   "outputs": [],
   "source": [
    "# Create an empty dataframe\n",
    "foursquare_df = pd.DataFrame()"
   ]
  },
  {
   "cell_type": "code",
   "execution_count": 298,
   "metadata": {
    "tags": []
   },
   "outputs": [],
   "source": [
    "# Loop through the bike_stations df to extract the lat/long/id of each row and make a new http request\n",
    "for index, row in bike_stations_load1.iterrows():\n",
    "     # Make the http request using row attributes\n",
    "    poi_fs = get_poi_fs(latitude=row['latitude'], longitude=row['longitude'], radius=1000, api_key=FOURSQUARE_KEY, categories=None)\n",
    "    # Turn the response into a dataframe\n",
    "    new_df = pd.json_normalize(poi_fs, record_path=['categories'], meta=['fsq_id', 'name', 'distance', ['location', 'address']], meta_prefix='poi_', errors='ignore')\n",
    "    # Add a column with the corresponding bike station id\n",
    "    new_df['station_id'] = row['id'] \n",
    "    # Add the new dataframe to yelp_df\n",
    "    foursquare_df = pd.concat([foursquare_df, new_df])"
   ]
  },
  {
   "cell_type": "code",
   "execution_count": 300,
   "metadata": {
    "tags": []
   },
   "outputs": [],
   "source": [
    "# Drop unnecessary columns from dataframe\n",
    "columns_to_drop_foursquare = ['short_name', 'plural_name', 'icon.prefix', 'icon.suffix']\n",
    "\n",
    "foursquare_df = foursquare_df.drop(columns=columns_to_drop_foursquare)\n",
    "\n",
    "# Rename columns\n",
    "foursquare_df = foursquare_df.rename(columns={\"id\": \"category_id\", \"name\": \"category_name\", 'poi_location.address': 'poi_address'})"
   ]
  },
  {
   "cell_type": "code",
   "execution_count": 304,
   "metadata": {
    "tags": []
   },
   "outputs": [],
   "source": [
    "# Reorder columns\n",
    "foursquare_df = foursquare_df[['poi_fsq_id', 'poi_name', 'category_id', 'category_name', 'poi_distance', 'poi_address', 'station_id']]"
   ]
  },
  {
   "cell_type": "code",
   "execution_count": 306,
   "metadata": {
    "tags": []
   },
   "outputs": [
    {
     "name": "stdout",
     "output_type": "stream",
     "text": [
      "(2343, 7) \n",
      "\n",
      "<class 'pandas.core.frame.DataFrame'>\n",
      "Index: 2343 entries, 0 to 15\n",
      "Data columns (total 7 columns):\n",
      " #   Column         Non-Null Count  Dtype \n",
      "---  ------         --------------  ----- \n",
      " 0   poi_fsq_id     2343 non-null   object\n",
      " 1   poi_name       2343 non-null   object\n",
      " 2   category_id    2343 non-null   int64 \n",
      " 3   category_name  2343 non-null   object\n",
      " 4   poi_distance   2343 non-null   object\n",
      " 5   poi_address    2298 non-null   object\n",
      " 6   station_id     2343 non-null   object\n",
      "dtypes: int64(1), object(6)\n",
      "memory usage: 146.4+ KB\n",
      "None\n"
     ]
    }
   ],
   "source": [
    "print(foursquare_df.shape, '\\n')\n",
    "print(foursquare_df.info())"
   ]
  },
  {
   "cell_type": "code",
   "execution_count": 307,
   "metadata": {
    "tags": []
   },
   "outputs": [
    {
     "data": {
      "text/html": [
       "<div>\n",
       "<style scoped>\n",
       "    .dataframe tbody tr th:only-of-type {\n",
       "        vertical-align: middle;\n",
       "    }\n",
       "\n",
       "    .dataframe tbody tr th {\n",
       "        vertical-align: top;\n",
       "    }\n",
       "\n",
       "    .dataframe thead th {\n",
       "        text-align: right;\n",
       "    }\n",
       "</style>\n",
       "<table border=\"1\" class=\"dataframe\">\n",
       "  <thead>\n",
       "    <tr style=\"text-align: right;\">\n",
       "      <th></th>\n",
       "      <th>poi_fsq_id</th>\n",
       "      <th>poi_name</th>\n",
       "      <th>category_id</th>\n",
       "      <th>category_name</th>\n",
       "      <th>poi_distance</th>\n",
       "      <th>poi_address</th>\n",
       "      <th>station_id</th>\n",
       "    </tr>\n",
       "  </thead>\n",
       "  <tbody>\n",
       "    <tr>\n",
       "      <th>0</th>\n",
       "      <td>579b8d6b498ea8f02d7fc402</td>\n",
       "      <td>Coop Hamilton</td>\n",
       "      <td>13055</td>\n",
       "      <td>Fried Chicken Joint</td>\n",
       "      <td>22</td>\n",
       "      <td>274 King St W</td>\n",
       "      <td>45dbb0009135e465f49f054517cbe74d</td>\n",
       "    </tr>\n",
       "    <tr>\n",
       "      <th>1</th>\n",
       "      <td>5796abdc498eb9b6b1d59458</td>\n",
       "      <td>Coop Wicked Chicken Hamilton</td>\n",
       "      <td>13055</td>\n",
       "      <td>Fried Chicken Joint</td>\n",
       "      <td>19</td>\n",
       "      <td>274 King St W</td>\n",
       "      <td>45dbb0009135e465f49f054517cbe74d</td>\n",
       "    </tr>\n",
       "    <tr>\n",
       "      <th>2</th>\n",
       "      <td>4c57494d30d82d7fd583d962</td>\n",
       "      <td>La Luna Restaurant Downtown</td>\n",
       "      <td>13298</td>\n",
       "      <td>Lebanese Restaurant</td>\n",
       "      <td>111</td>\n",
       "      <td>306 King St W</td>\n",
       "      <td>45dbb0009135e465f49f054517cbe74d</td>\n",
       "    </tr>\n",
       "    <tr>\n",
       "      <th>3</th>\n",
       "      <td>4c57494d30d82d7fd583d962</td>\n",
       "      <td>La Luna Restaurant Downtown</td>\n",
       "      <td>13302</td>\n",
       "      <td>Mediterranean Restaurant</td>\n",
       "      <td>111</td>\n",
       "      <td>306 King St W</td>\n",
       "      <td>45dbb0009135e465f49f054517cbe74d</td>\n",
       "    </tr>\n",
       "    <tr>\n",
       "      <th>4</th>\n",
       "      <td>4c57494d30d82d7fd583d962</td>\n",
       "      <td>La Luna Restaurant Downtown</td>\n",
       "      <td>13303</td>\n",
       "      <td>Mexican Restaurant</td>\n",
       "      <td>111</td>\n",
       "      <td>306 King St W</td>\n",
       "      <td>45dbb0009135e465f49f054517cbe74d</td>\n",
       "    </tr>\n",
       "  </tbody>\n",
       "</table>\n",
       "</div>"
      ],
      "text/plain": [
       "                 poi_fsq_id                      poi_name  category_id  \\\n",
       "0  579b8d6b498ea8f02d7fc402                 Coop Hamilton        13055   \n",
       "1  5796abdc498eb9b6b1d59458  Coop Wicked Chicken Hamilton        13055   \n",
       "2  4c57494d30d82d7fd583d962   La Luna Restaurant Downtown        13298   \n",
       "3  4c57494d30d82d7fd583d962   La Luna Restaurant Downtown        13302   \n",
       "4  4c57494d30d82d7fd583d962   La Luna Restaurant Downtown        13303   \n",
       "\n",
       "              category_name poi_distance    poi_address  \\\n",
       "0       Fried Chicken Joint           22  274 King St W   \n",
       "1       Fried Chicken Joint           19  274 King St W   \n",
       "2       Lebanese Restaurant          111  306 King St W   \n",
       "3  Mediterranean Restaurant          111  306 King St W   \n",
       "4        Mexican Restaurant          111  306 King St W   \n",
       "\n",
       "                         station_id  \n",
       "0  45dbb0009135e465f49f054517cbe74d  \n",
       "1  45dbb0009135e465f49f054517cbe74d  \n",
       "2  45dbb0009135e465f49f054517cbe74d  \n",
       "3  45dbb0009135e465f49f054517cbe74d  \n",
       "4  45dbb0009135e465f49f054517cbe74d  "
      ]
     },
     "execution_count": 307,
     "metadata": {},
     "output_type": "execute_result"
    }
   ],
   "source": [
    "foursquare_df.head()"
   ]
  },
  {
   "cell_type": "code",
   "execution_count": 308,
   "metadata": {
    "tags": []
   },
   "outputs": [],
   "source": [
    "#save data to use in another notebook \n",
    "foursquare_df.to_csv('../data/bike_stations_hamilton_poi_foursquare.csv')"
   ]
  },
  {
   "cell_type": "markdown",
   "metadata": {
    "tags": []
   },
   "source": [
    "# Yelp"
   ]
  },
  {
   "cell_type": "markdown",
   "metadata": {},
   "source": [
    "Send a request to Yelp with a small radius (1000m) for all the bike stations in your city of choice.\n",
    "___"
   ]
  },
  {
   "cell_type": "code",
   "execution_count": 30,
   "metadata": {
    "tags": []
   },
   "outputs": [],
   "source": [
    "YELP_KEY = os.getenv('YELP_API_KEY')"
   ]
  },
  {
   "cell_type": "code",
   "execution_count": 31,
   "metadata": {
    "tags": []
   },
   "outputs": [],
   "source": [
    "# Create list with desired categories from Yelp\n",
    "dining_cat_yelp = ['restaurants', 'bars', 'pubs']"
   ]
  },
  {
   "cell_type": "code",
   "execution_count": 163,
   "metadata": {},
   "outputs": [],
   "source": [
    "# Function to make an http request to yelp for each bike station\n",
    "def get_poi_yelp(latitude, longitude, radius, api_key, categories):\n",
    "    url = f'https://api.yelp.com/v3/businesses/search?latitude={latitude}&longitude={longitude}&radius={radius}&categories={categories}&sort_by=best_match'\n",
    "    \n",
    "    # Create dictionary for headers\n",
    "    headers = {\n",
    "        'Authorization': 'Bearer %s' % api_key,\n",
    "        'accept': 'application/json'\n",
    "    }\n",
    "    \n",
    "    reponse = requests.get(url, headers=headers)\n",
    "    reponse_data = reponse.json()  \n",
    "\n",
    "    return reponse_data['businesses']"
   ]
  },
  {
   "cell_type": "code",
   "execution_count": 51,
   "metadata": {
    "tags": []
   },
   "outputs": [],
   "source": [
    "# testing\n",
    "res_2 = get_poi_yelp(latitude=43.259126, longitude=-79.877212, radius=1000, api_key=YELP_KEY, categories=','.join(dining_cat_yelp))"
   ]
  },
  {
   "cell_type": "markdown",
   "metadata": {},
   "source": [
    "Parse through the response to get the POI (such as restaurants, bars, etc) details you want (ratings, name, location, etc)\n",
    "___"
   ]
  },
  {
   "cell_type": "code",
   "execution_count": 56,
   "metadata": {
    "tags": []
   },
   "outputs": [
    {
     "name": "stdout",
     "output_type": "stream",
     "text": [
      "dict_keys(['id', 'alias', 'name', 'image_url', 'is_closed', 'url', 'review_count', 'categories', 'rating', 'coordinates', 'transactions', 'price', 'location', 'phone', 'display_phone', 'distance']) \n",
      "\n"
     ]
    },
    {
     "data": {
      "text/plain": [
       "{'id': 'vqyK2q3zJ74TIT1-7Bf3Tg',\n",
       " 'alias': 'la-luna-hamilton',\n",
       " 'name': 'La Luna',\n",
       " 'image_url': 'https://s3-media2.fl.yelpcdn.com/bphoto/OBRpyj_wUqmDwKLtKU4pCA/o.jpg',\n",
       " 'is_closed': False,\n",
       " 'url': 'https://www.yelp.com/biz/la-luna-hamilton?adjust_creative=gFi5fjmEU0QolB5fod8Nww&utm_campaign=yelp_api_v3&utm_medium=api_v3_business_search&utm_source=gFi5fjmEU0QolB5fod8Nww',\n",
       " 'review_count': 65,\n",
       " 'categories': [{'alias': 'mideastern', 'title': 'Middle Eastern'}],\n",
       " 'rating': 4.0,\n",
       " 'coordinates': {'latitude': 43.25942165323912,\n",
       "  'longitude': -79.87848757635106},\n",
       " 'transactions': [],\n",
       " 'price': '$$',\n",
       " 'location': {'address1': '306 King Street W',\n",
       "  'address2': '',\n",
       "  'address3': '',\n",
       "  'city': 'Hamilton',\n",
       "  'zip_code': 'L8P 1B1',\n",
       "  'country': 'CA',\n",
       "  'state': 'ON',\n",
       "  'display_address': ['306 King Street W', 'Hamilton, ON L8P 1B1', 'Canada']},\n",
       " 'phone': '+19055770233',\n",
       " 'display_phone': '+1 905-577-0233',\n",
       " 'distance': 108.39989911183157}"
      ]
     },
     "execution_count": 56,
     "metadata": {},
     "output_type": "execute_result"
    }
   ],
   "source": [
    "# to explore the result of a single POI from the testing call\n",
    "print(res_2[0].keys(), '\\n')\n",
    "res_2[0]"
   ]
  },
  {
   "cell_type": "markdown",
   "metadata": {},
   "source": [
    "Put your parsed results into a DataFrame\n",
    "___"
   ]
  },
  {
   "cell_type": "code",
   "execution_count": 4,
   "metadata": {
    "tags": []
   },
   "outputs": [],
   "source": [
    "# Load the df of the bike stations containing the latitude and longitude\n",
    "bike_stations_load2 = pd.read_csv('../data/bike_stations_hamilton.csv', index_col=0)"
   ]
  },
  {
   "cell_type": "code",
   "execution_count": 225,
   "metadata": {
    "tags": []
   },
   "outputs": [],
   "source": [
    "# Create an empty dataframe\n",
    "yelp_df = pd.DataFrame()"
   ]
  },
  {
   "cell_type": "code",
   "execution_count": 226,
   "metadata": {
    "tags": []
   },
   "outputs": [],
   "source": [
    "# Loop through the bike_stations df to extract the lat/long/id of each row and make a new http request\n",
    "for index, row in bike_stations_load2.iterrows():\n",
    "     # Make the http request using row attributes\n",
    "    poi_yelp = get_poi_yelp(latitude=row['latitude'], longitude=row['longitude'], radius=1000, api_key=YELP_KEY, categories=','.join(dining_cat_yelp))\n",
    "    # Turn the response into a dataframe\n",
    "    new_df = pd.json_normalize(poi_yelp)\n",
    "    # Add a column with the corresponding bike station id\n",
    "    new_df['station_id'] = row['id'] \n",
    "    # Add the new dataframe to yelp_df\n",
    "    yelp_df = pd.concat([yelp_df, new_df])  "
   ]
  },
  {
   "cell_type": "code",
   "execution_count": 227,
   "metadata": {
    "tags": []
   },
   "outputs": [],
   "source": [
    "# Drop unnecessary columns from dataframe\n",
    "columns_to_drop_yelp = [\n",
    "    'alias', 'image_url', 'is_closed', 'url', 'transactions', 'phone',\n",
    "    'display_phone', 'coordinates.latitude',\n",
    "    'coordinates.longitude', 'location.address1', 'location.address2',\n",
    "    'location.address3', 'location.city', 'location.zip_code',\n",
    "    'location.country', 'location.state','categories']\n",
    "\n",
    "yelp_df = yelp_df.drop(columns=columns_to_drop_yelp)\n",
    "\n",
    "# Rename columns\n",
    "yelp_df = yelp_df.rename(columns={\"id\": \"poi_id\", \"location.display_address\": \"full_address\"})"
   ]
  },
  {
   "cell_type": "code",
   "execution_count": 228,
   "metadata": {
    "tags": []
   },
   "outputs": [
    {
     "name": "stdout",
     "output_type": "stream",
     "text": [
      "(2768, 8) \n",
      "\n",
      "<class 'pandas.core.frame.DataFrame'>\n",
      "Index: 2768 entries, 0 to 19\n",
      "Data columns (total 8 columns):\n",
      " #   Column        Non-Null Count  Dtype  \n",
      "---  ------        --------------  -----  \n",
      " 0   poi_id        2768 non-null   object \n",
      " 1   name          2768 non-null   object \n",
      " 2   review_count  2768 non-null   float64\n",
      " 3   rating        2768 non-null   float64\n",
      " 4   price         1700 non-null   object \n",
      " 5   distance      2768 non-null   float64\n",
      " 6   full_address  2768 non-null   object \n",
      " 7   station_id    2768 non-null   object \n",
      "dtypes: float64(3), object(5)\n",
      "memory usage: 194.6+ KB\n",
      "None\n"
     ]
    }
   ],
   "source": [
    "print(yelp_df.shape, '\\n')\n",
    "print(yelp_df.info())"
   ]
  },
  {
   "cell_type": "code",
   "execution_count": 229,
   "metadata": {
    "tags": []
   },
   "outputs": [
    {
     "data": {
      "text/html": [
       "<div>\n",
       "<style scoped>\n",
       "    .dataframe tbody tr th:only-of-type {\n",
       "        vertical-align: middle;\n",
       "    }\n",
       "\n",
       "    .dataframe tbody tr th {\n",
       "        vertical-align: top;\n",
       "    }\n",
       "\n",
       "    .dataframe thead th {\n",
       "        text-align: right;\n",
       "    }\n",
       "</style>\n",
       "<table border=\"1\" class=\"dataframe\">\n",
       "  <thead>\n",
       "    <tr style=\"text-align: right;\">\n",
       "      <th></th>\n",
       "      <th>poi_id</th>\n",
       "      <th>name</th>\n",
       "      <th>review_count</th>\n",
       "      <th>rating</th>\n",
       "      <th>price</th>\n",
       "      <th>distance</th>\n",
       "      <th>full_address</th>\n",
       "      <th>station_id</th>\n",
       "    </tr>\n",
       "  </thead>\n",
       "  <tbody>\n",
       "    <tr>\n",
       "      <th>0</th>\n",
       "      <td>vqyK2q3zJ74TIT1-7Bf3Tg</td>\n",
       "      <td>La Luna</td>\n",
       "      <td>65.0</td>\n",
       "      <td>4.0</td>\n",
       "      <td>$$</td>\n",
       "      <td>108.424550</td>\n",
       "      <td>[306 King Street W, Hamilton, ON L8P 1B1, Canada]</td>\n",
       "      <td>45dbb0009135e465f49f054517cbe74d</td>\n",
       "    </tr>\n",
       "    <tr>\n",
       "      <th>1</th>\n",
       "      <td>bHecMQ85o3ayw1t9hRA90g</td>\n",
       "      <td>The French</td>\n",
       "      <td>98.0</td>\n",
       "      <td>4.0</td>\n",
       "      <td>$$$</td>\n",
       "      <td>814.105154</td>\n",
       "      <td>[37 King William Street, Hamilton, ON L8R 1A1,...</td>\n",
       "      <td>45dbb0009135e465f49f054517cbe74d</td>\n",
       "    </tr>\n",
       "    <tr>\n",
       "      <th>2</th>\n",
       "      <td>Q4oLgsU62VPR28pBm0vCXw</td>\n",
       "      <td>Earth To Table : Bread Bar</td>\n",
       "      <td>293.0</td>\n",
       "      <td>4.0</td>\n",
       "      <td>$$</td>\n",
       "      <td>1052.141521</td>\n",
       "      <td>[258 Locke Street S, Hamilton, ON L8P 4B9, Can...</td>\n",
       "      <td>45dbb0009135e465f49f054517cbe74d</td>\n",
       "    </tr>\n",
       "    <tr>\n",
       "      <th>3</th>\n",
       "      <td>9oIPWjU3DvtSdORv6I2toQ</td>\n",
       "      <td>The Ship</td>\n",
       "      <td>209.0</td>\n",
       "      <td>4.0</td>\n",
       "      <td>$$</td>\n",
       "      <td>970.855528</td>\n",
       "      <td>[23 Augusta Street, Hamilton, ON L8N 1P6, Canada]</td>\n",
       "      <td>45dbb0009135e465f49f054517cbe74d</td>\n",
       "    </tr>\n",
       "    <tr>\n",
       "      <th>4</th>\n",
       "      <td>752Fv2jKafftvoS3Twkqyg</td>\n",
       "      <td>Hambrgr</td>\n",
       "      <td>202.0</td>\n",
       "      <td>4.0</td>\n",
       "      <td>$$</td>\n",
       "      <td>858.672096</td>\n",
       "      <td>[49 King William Street, Hamilton, ON L8R 1A2,...</td>\n",
       "      <td>45dbb0009135e465f49f054517cbe74d</td>\n",
       "    </tr>\n",
       "  </tbody>\n",
       "</table>\n",
       "</div>"
      ],
      "text/plain": [
       "                   poi_id                        name  review_count  rating  \\\n",
       "0  vqyK2q3zJ74TIT1-7Bf3Tg                     La Luna          65.0     4.0   \n",
       "1  bHecMQ85o3ayw1t9hRA90g                  The French          98.0     4.0   \n",
       "2  Q4oLgsU62VPR28pBm0vCXw  Earth To Table : Bread Bar         293.0     4.0   \n",
       "3  9oIPWjU3DvtSdORv6I2toQ                    The Ship         209.0     4.0   \n",
       "4  752Fv2jKafftvoS3Twkqyg                     Hambrgr         202.0     4.0   \n",
       "\n",
       "  price     distance                                       full_address  \\\n",
       "0    $$   108.424550  [306 King Street W, Hamilton, ON L8P 1B1, Canada]   \n",
       "1   $$$   814.105154  [37 King William Street, Hamilton, ON L8R 1A1,...   \n",
       "2    $$  1052.141521  [258 Locke Street S, Hamilton, ON L8P 4B9, Can...   \n",
       "3    $$   970.855528  [23 Augusta Street, Hamilton, ON L8N 1P6, Canada]   \n",
       "4    $$   858.672096  [49 King William Street, Hamilton, ON L8R 1A2,...   \n",
       "\n",
       "                         station_id  \n",
       "0  45dbb0009135e465f49f054517cbe74d  \n",
       "1  45dbb0009135e465f49f054517cbe74d  \n",
       "2  45dbb0009135e465f49f054517cbe74d  \n",
       "3  45dbb0009135e465f49f054517cbe74d  \n",
       "4  45dbb0009135e465f49f054517cbe74d  "
      ]
     },
     "execution_count": 229,
     "metadata": {},
     "output_type": "execute_result"
    }
   ],
   "source": [
    "yelp_df.head()"
   ]
  },
  {
   "cell_type": "code",
   "execution_count": 230,
   "metadata": {
    "tags": []
   },
   "outputs": [],
   "source": [
    "#save data to use in another notebook \n",
    "yelp_df.to_csv('../data/bike_stations_hamilton_poi_yelp.csv')"
   ]
  },
  {
   "cell_type": "markdown",
   "metadata": {},
   "source": [
    "# Comparing Results"
   ]
  },
  {
   "cell_type": "markdown",
   "metadata": {},
   "source": [
    "Which API provided you with more complete data? Provide an explanation.\n",
    "___"
   ]
  },
  {
   "cell_type": "markdown",
   "metadata": {},
   "source": [
    "As seen in the samples below from both data frames, the Yelp API provides better details such as review count, rating, and price from a single http request based on latitude and longitude.\n",
    "If we wanted to retrieve similar information from Foursquare, we would need to first make an http request based on latitude and longitude to get all the POI and then make another http request for every single POI for further details.\n",
    "For this reason, the Yelp API is better. We get more detailed results with fewer steps."
   ]
  },
  {
   "cell_type": "code",
   "execution_count": 351,
   "metadata": {
    "tags": []
   },
   "outputs": [
    {
     "name": "stdout",
     "output_type": "stream",
     "text": [
      "Foursquare results\n"
     ]
    },
    {
     "data": {
      "text/html": [
       "<div>\n",
       "<style scoped>\n",
       "    .dataframe tbody tr th:only-of-type {\n",
       "        vertical-align: middle;\n",
       "    }\n",
       "\n",
       "    .dataframe tbody tr th {\n",
       "        vertical-align: top;\n",
       "    }\n",
       "\n",
       "    .dataframe thead th {\n",
       "        text-align: right;\n",
       "    }\n",
       "</style>\n",
       "<table border=\"1\" class=\"dataframe\">\n",
       "  <thead>\n",
       "    <tr style=\"text-align: right;\">\n",
       "      <th></th>\n",
       "      <th>poi_fsq_id</th>\n",
       "      <th>poi_name</th>\n",
       "      <th>category_id</th>\n",
       "      <th>category_name</th>\n",
       "      <th>poi_distance</th>\n",
       "      <th>poi_address</th>\n",
       "      <th>station_id</th>\n",
       "    </tr>\n",
       "  </thead>\n",
       "  <tbody>\n",
       "    <tr>\n",
       "      <th>0</th>\n",
       "      <td>579b8d6b498ea8f02d7fc402</td>\n",
       "      <td>Coop Hamilton</td>\n",
       "      <td>13055</td>\n",
       "      <td>Fried Chicken Joint</td>\n",
       "      <td>22</td>\n",
       "      <td>274 King St W</td>\n",
       "      <td>45dbb0009135e465f49f054517cbe74d</td>\n",
       "    </tr>\n",
       "    <tr>\n",
       "      <th>1</th>\n",
       "      <td>5796abdc498eb9b6b1d59458</td>\n",
       "      <td>Coop Wicked Chicken Hamilton</td>\n",
       "      <td>13055</td>\n",
       "      <td>Fried Chicken Joint</td>\n",
       "      <td>19</td>\n",
       "      <td>274 King St W</td>\n",
       "      <td>45dbb0009135e465f49f054517cbe74d</td>\n",
       "    </tr>\n",
       "    <tr>\n",
       "      <th>2</th>\n",
       "      <td>4c57494d30d82d7fd583d962</td>\n",
       "      <td>La Luna Restaurant Downtown</td>\n",
       "      <td>13298</td>\n",
       "      <td>Lebanese Restaurant</td>\n",
       "      <td>111</td>\n",
       "      <td>306 King St W</td>\n",
       "      <td>45dbb0009135e465f49f054517cbe74d</td>\n",
       "    </tr>\n",
       "    <tr>\n",
       "      <th>3</th>\n",
       "      <td>4c57494d30d82d7fd583d962</td>\n",
       "      <td>La Luna Restaurant Downtown</td>\n",
       "      <td>13302</td>\n",
       "      <td>Mediterranean Restaurant</td>\n",
       "      <td>111</td>\n",
       "      <td>306 King St W</td>\n",
       "      <td>45dbb0009135e465f49f054517cbe74d</td>\n",
       "    </tr>\n",
       "    <tr>\n",
       "      <th>4</th>\n",
       "      <td>4c57494d30d82d7fd583d962</td>\n",
       "      <td>La Luna Restaurant Downtown</td>\n",
       "      <td>13303</td>\n",
       "      <td>Mexican Restaurant</td>\n",
       "      <td>111</td>\n",
       "      <td>306 King St W</td>\n",
       "      <td>45dbb0009135e465f49f054517cbe74d</td>\n",
       "    </tr>\n",
       "  </tbody>\n",
       "</table>\n",
       "</div>"
      ],
      "text/plain": [
       "                 poi_fsq_id                      poi_name  category_id  \\\n",
       "0  579b8d6b498ea8f02d7fc402                 Coop Hamilton        13055   \n",
       "1  5796abdc498eb9b6b1d59458  Coop Wicked Chicken Hamilton        13055   \n",
       "2  4c57494d30d82d7fd583d962   La Luna Restaurant Downtown        13298   \n",
       "3  4c57494d30d82d7fd583d962   La Luna Restaurant Downtown        13302   \n",
       "4  4c57494d30d82d7fd583d962   La Luna Restaurant Downtown        13303   \n",
       "\n",
       "              category_name poi_distance    poi_address  \\\n",
       "0       Fried Chicken Joint           22  274 King St W   \n",
       "1       Fried Chicken Joint           19  274 King St W   \n",
       "2       Lebanese Restaurant          111  306 King St W   \n",
       "3  Mediterranean Restaurant          111  306 King St W   \n",
       "4        Mexican Restaurant          111  306 King St W   \n",
       "\n",
       "                         station_id  \n",
       "0  45dbb0009135e465f49f054517cbe74d  \n",
       "1  45dbb0009135e465f49f054517cbe74d  \n",
       "2  45dbb0009135e465f49f054517cbe74d  \n",
       "3  45dbb0009135e465f49f054517cbe74d  \n",
       "4  45dbb0009135e465f49f054517cbe74d  "
      ]
     },
     "execution_count": 351,
     "metadata": {},
     "output_type": "execute_result"
    }
   ],
   "source": [
    "print('Foursquare results')\n",
    "foursquare_df.head()"
   ]
  },
  {
   "cell_type": "code",
   "execution_count": 350,
   "metadata": {
    "tags": []
   },
   "outputs": [
    {
     "name": "stdout",
     "output_type": "stream",
     "text": [
      "Yelp results\n"
     ]
    },
    {
     "data": {
      "text/html": [
       "<div>\n",
       "<style scoped>\n",
       "    .dataframe tbody tr th:only-of-type {\n",
       "        vertical-align: middle;\n",
       "    }\n",
       "\n",
       "    .dataframe tbody tr th {\n",
       "        vertical-align: top;\n",
       "    }\n",
       "\n",
       "    .dataframe thead th {\n",
       "        text-align: right;\n",
       "    }\n",
       "</style>\n",
       "<table border=\"1\" class=\"dataframe\">\n",
       "  <thead>\n",
       "    <tr style=\"text-align: right;\">\n",
       "      <th></th>\n",
       "      <th>poi_id</th>\n",
       "      <th>name</th>\n",
       "      <th>review_count</th>\n",
       "      <th>rating</th>\n",
       "      <th>price</th>\n",
       "      <th>distance</th>\n",
       "      <th>full_address</th>\n",
       "      <th>station_id</th>\n",
       "    </tr>\n",
       "  </thead>\n",
       "  <tbody>\n",
       "    <tr>\n",
       "      <th>0</th>\n",
       "      <td>vqyK2q3zJ74TIT1-7Bf3Tg</td>\n",
       "      <td>La Luna</td>\n",
       "      <td>65.0</td>\n",
       "      <td>4.0</td>\n",
       "      <td>$$</td>\n",
       "      <td>108.424550</td>\n",
       "      <td>[306 King Street W, Hamilton, ON L8P 1B1, Canada]</td>\n",
       "      <td>45dbb0009135e465f49f054517cbe74d</td>\n",
       "    </tr>\n",
       "    <tr>\n",
       "      <th>1</th>\n",
       "      <td>bHecMQ85o3ayw1t9hRA90g</td>\n",
       "      <td>The French</td>\n",
       "      <td>98.0</td>\n",
       "      <td>4.0</td>\n",
       "      <td>$$$</td>\n",
       "      <td>814.105154</td>\n",
       "      <td>[37 King William Street, Hamilton, ON L8R 1A1,...</td>\n",
       "      <td>45dbb0009135e465f49f054517cbe74d</td>\n",
       "    </tr>\n",
       "    <tr>\n",
       "      <th>2</th>\n",
       "      <td>Q4oLgsU62VPR28pBm0vCXw</td>\n",
       "      <td>Earth To Table : Bread Bar</td>\n",
       "      <td>293.0</td>\n",
       "      <td>4.0</td>\n",
       "      <td>$$</td>\n",
       "      <td>1052.141521</td>\n",
       "      <td>[258 Locke Street S, Hamilton, ON L8P 4B9, Can...</td>\n",
       "      <td>45dbb0009135e465f49f054517cbe74d</td>\n",
       "    </tr>\n",
       "    <tr>\n",
       "      <th>3</th>\n",
       "      <td>9oIPWjU3DvtSdORv6I2toQ</td>\n",
       "      <td>The Ship</td>\n",
       "      <td>209.0</td>\n",
       "      <td>4.0</td>\n",
       "      <td>$$</td>\n",
       "      <td>970.855528</td>\n",
       "      <td>[23 Augusta Street, Hamilton, ON L8N 1P6, Canada]</td>\n",
       "      <td>45dbb0009135e465f49f054517cbe74d</td>\n",
       "    </tr>\n",
       "    <tr>\n",
       "      <th>4</th>\n",
       "      <td>752Fv2jKafftvoS3Twkqyg</td>\n",
       "      <td>Hambrgr</td>\n",
       "      <td>202.0</td>\n",
       "      <td>4.0</td>\n",
       "      <td>$$</td>\n",
       "      <td>858.672096</td>\n",
       "      <td>[49 King William Street, Hamilton, ON L8R 1A2,...</td>\n",
       "      <td>45dbb0009135e465f49f054517cbe74d</td>\n",
       "    </tr>\n",
       "  </tbody>\n",
       "</table>\n",
       "</div>"
      ],
      "text/plain": [
       "                   poi_id                        name  review_count  rating  \\\n",
       "0  vqyK2q3zJ74TIT1-7Bf3Tg                     La Luna          65.0     4.0   \n",
       "1  bHecMQ85o3ayw1t9hRA90g                  The French          98.0     4.0   \n",
       "2  Q4oLgsU62VPR28pBm0vCXw  Earth To Table : Bread Bar         293.0     4.0   \n",
       "3  9oIPWjU3DvtSdORv6I2toQ                    The Ship         209.0     4.0   \n",
       "4  752Fv2jKafftvoS3Twkqyg                     Hambrgr         202.0     4.0   \n",
       "\n",
       "  price     distance                                       full_address  \\\n",
       "0    $$   108.424550  [306 King Street W, Hamilton, ON L8P 1B1, Canada]   \n",
       "1   $$$   814.105154  [37 King William Street, Hamilton, ON L8R 1A1,...   \n",
       "2    $$  1052.141521  [258 Locke Street S, Hamilton, ON L8P 4B9, Can...   \n",
       "3    $$   970.855528  [23 Augusta Street, Hamilton, ON L8N 1P6, Canada]   \n",
       "4    $$   858.672096  [49 King William Street, Hamilton, ON L8R 1A2,...   \n",
       "\n",
       "                         station_id  \n",
       "0  45dbb0009135e465f49f054517cbe74d  \n",
       "1  45dbb0009135e465f49f054517cbe74d  \n",
       "2  45dbb0009135e465f49f054517cbe74d  \n",
       "3  45dbb0009135e465f49f054517cbe74d  \n",
       "4  45dbb0009135e465f49f054517cbe74d  "
      ]
     },
     "execution_count": 350,
     "metadata": {},
     "output_type": "execute_result"
    }
   ],
   "source": [
    "print('Yelp results')\n",
    "yelp_df.head()"
   ]
  },
  {
   "cell_type": "markdown",
   "metadata": {},
   "source": [
    "Get the top 10 restaurants according to their rating\n",
    "___"
   ]
  },
  {
   "cell_type": "code",
   "execution_count": 343,
   "metadata": {
    "tags": []
   },
   "outputs": [],
   "source": [
    "# Make a copy of the yelp dataframe with poi only\n",
    "yelp_unique_poi = yelp_df[['poi_id', 'name', 'review_count', 'rating', 'price']].copy()\n",
    "\n",
    "# Drop duplicates\n",
    "yelp_unique_poi.drop_duplicates(subset=None, keep='first', inplace=True, ignore_index=False)"
   ]
  },
  {
   "cell_type": "code",
   "execution_count": 344,
   "metadata": {
    "tags": []
   },
   "outputs": [
    {
     "data": {
      "text/html": [
       "<div>\n",
       "<style scoped>\n",
       "    .dataframe tbody tr th:only-of-type {\n",
       "        vertical-align: middle;\n",
       "    }\n",
       "\n",
       "    .dataframe tbody tr th {\n",
       "        vertical-align: top;\n",
       "    }\n",
       "\n",
       "    .dataframe thead th {\n",
       "        text-align: right;\n",
       "    }\n",
       "</style>\n",
       "<table border=\"1\" class=\"dataframe\">\n",
       "  <thead>\n",
       "    <tr style=\"text-align: right;\">\n",
       "      <th></th>\n",
       "      <th>poi_id</th>\n",
       "      <th>name</th>\n",
       "      <th>review_count</th>\n",
       "      <th>rating</th>\n",
       "      <th>price</th>\n",
       "    </tr>\n",
       "  </thead>\n",
       "  <tbody>\n",
       "    <tr>\n",
       "      <th>17</th>\n",
       "      <td>XqZOIEbNX7mdIg1Cwb1RWw</td>\n",
       "      <td>Famous Recipe</td>\n",
       "      <td>9.0</td>\n",
       "      <td>5.0</td>\n",
       "      <td>NaN</td>\n",
       "    </tr>\n",
       "    <tr>\n",
       "      <th>8</th>\n",
       "      <td>ccvY3bOziuqDnBZSAI6CoQ</td>\n",
       "      <td>Bon Temps</td>\n",
       "      <td>7.0</td>\n",
       "      <td>5.0</td>\n",
       "      <td>NaN</td>\n",
       "    </tr>\n",
       "    <tr>\n",
       "      <th>4</th>\n",
       "      <td>Wb3Rs6B5y6Z-5Pdi4-j6tQ</td>\n",
       "      <td>Chung Chun Rice Hot Dog</td>\n",
       "      <td>7.0</td>\n",
       "      <td>5.0</td>\n",
       "      <td>NaN</td>\n",
       "    </tr>\n",
       "    <tr>\n",
       "      <th>7</th>\n",
       "      <td>VD1YD4oALbOUWUspR4_3fQ</td>\n",
       "      <td>Mancala Monk Board Game Cafe</td>\n",
       "      <td>7.0</td>\n",
       "      <td>5.0</td>\n",
       "      <td>NaN</td>\n",
       "    </tr>\n",
       "    <tr>\n",
       "      <th>4</th>\n",
       "      <td>wNHa-Hze5WuGQjFG9aqdFw</td>\n",
       "      <td>Tomah</td>\n",
       "      <td>7.0</td>\n",
       "      <td>5.0</td>\n",
       "      <td>NaN</td>\n",
       "    </tr>\n",
       "    <tr>\n",
       "      <th>6</th>\n",
       "      <td>AhbQMW5iC9jhXNc7gYyH5w</td>\n",
       "      <td>Pita Pit</td>\n",
       "      <td>6.0</td>\n",
       "      <td>5.0</td>\n",
       "      <td>$</td>\n",
       "    </tr>\n",
       "    <tr>\n",
       "      <th>13</th>\n",
       "      <td>GL_qt7r-Cj078pGDbBpToA</td>\n",
       "      <td>Rustic Reuben</td>\n",
       "      <td>6.0</td>\n",
       "      <td>5.0</td>\n",
       "      <td>NaN</td>\n",
       "    </tr>\n",
       "    <tr>\n",
       "      <th>10</th>\n",
       "      <td>XjV0R0eLX8FiUOIMB5FXFQ</td>\n",
       "      <td>Speedy Subs</td>\n",
       "      <td>6.0</td>\n",
       "      <td>5.0</td>\n",
       "      <td>$</td>\n",
       "    </tr>\n",
       "    <tr>\n",
       "      <th>17</th>\n",
       "      <td>c-H6M3ZYh86IsKQarfchUA</td>\n",
       "      <td>193 Bench Kitchen</td>\n",
       "      <td>6.0</td>\n",
       "      <td>5.0</td>\n",
       "      <td>NaN</td>\n",
       "    </tr>\n",
       "    <tr>\n",
       "      <th>13</th>\n",
       "      <td>cJG7xTMdpy-Y4Lr58hzuyw</td>\n",
       "      <td>Hanma Japanese Foods</td>\n",
       "      <td>4.0</td>\n",
       "      <td>5.0</td>\n",
       "      <td>NaN</td>\n",
       "    </tr>\n",
       "  </tbody>\n",
       "</table>\n",
       "</div>"
      ],
      "text/plain": [
       "                    poi_id                          name  review_count  \\\n",
       "17  XqZOIEbNX7mdIg1Cwb1RWw                 Famous Recipe           9.0   \n",
       "8   ccvY3bOziuqDnBZSAI6CoQ                     Bon Temps           7.0   \n",
       "4   Wb3Rs6B5y6Z-5Pdi4-j6tQ       Chung Chun Rice Hot Dog           7.0   \n",
       "7   VD1YD4oALbOUWUspR4_3fQ  Mancala Monk Board Game Cafe           7.0   \n",
       "4   wNHa-Hze5WuGQjFG9aqdFw                         Tomah           7.0   \n",
       "6   AhbQMW5iC9jhXNc7gYyH5w                      Pita Pit           6.0   \n",
       "13  GL_qt7r-Cj078pGDbBpToA                 Rustic Reuben           6.0   \n",
       "10  XjV0R0eLX8FiUOIMB5FXFQ                   Speedy Subs           6.0   \n",
       "17  c-H6M3ZYh86IsKQarfchUA             193 Bench Kitchen           6.0   \n",
       "13  cJG7xTMdpy-Y4Lr58hzuyw          Hanma Japanese Foods           4.0   \n",
       "\n",
       "    rating price  \n",
       "17     5.0   NaN  \n",
       "8      5.0   NaN  \n",
       "4      5.0   NaN  \n",
       "7      5.0   NaN  \n",
       "4      5.0   NaN  \n",
       "6      5.0     $  \n",
       "13     5.0   NaN  \n",
       "10     5.0     $  \n",
       "17     5.0   NaN  \n",
       "13     5.0   NaN  "
      ]
     },
     "execution_count": 344,
     "metadata": {},
     "output_type": "execute_result"
    }
   ],
   "source": [
    "# Filter sort by rating and review_count\n",
    "yelp_unique_poi.sort_values(by=['rating', 'review_count'], ascending=False).head(10)"
   ]
  }
 ],
 "metadata": {
  "kernelspec": {
   "display_name": "Python 3 (ipykernel)",
   "language": "python",
   "name": "python3"
  },
  "language_info": {
   "codemirror_mode": {
    "name": "ipython",
    "version": 3
   },
   "file_extension": ".py",
   "mimetype": "text/x-python",
   "name": "python",
   "nbconvert_exporter": "python",
   "pygments_lexer": "ipython3",
   "version": "3.11.5"
  }
 },
 "nbformat": 4,
 "nbformat_minor": 4
}
